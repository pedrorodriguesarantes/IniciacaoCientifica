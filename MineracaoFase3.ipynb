{
 "cells": [
  {
   "cell_type": "code",
   "execution_count": 15,
   "metadata": {},
   "outputs": [],
   "source": [
    "from github import Github\n",
    "chave = \"\"\n",
    "login = Github(chave)"
   ]
  },
  {
   "cell_type": "code",
   "execution_count": null,
   "metadata": {},
   "outputs": [],
   "source": [
    "login.get_rate_limit()"
   ]
  },
  {
   "cell_type": "code",
   "execution_count": null,
   "metadata": {},
   "outputs": [],
   "source": [
    "repositorio = login.get_repo(\"angular/angular.js\")\n",
    "print(repositorio.get_issues(state = 'all').totalCount)"
   ]
  },
  {
   "cell_type": "code",
   "execution_count": 9,
   "metadata": {},
   "outputs": [],
   "source": [
    "import time\n",
    "lista_issue = []\n",
    "limite_inferior = 0\n",
    "limite_superior = 2000\n",
    "\n",
    "for contagem, issue in enumerate(repositorio.get_issues(state = 'all')):\n",
    "    if contagem < limite_inferior:\n",
    "        pass\n",
    "    elif contagem >= limite_superior:\n",
    "        break\n",
    "    else:\n",
    "\n",
    "        if issue.pull_request:\n",
    "            is_pull = \"Verdadeiro\"\n",
    "        else:\n",
    "            is_pull = \"Falso\"\n",
    "\n",
    "        id_issue = issue.id\n",
    "        titulo_issue = issue.title\n",
    "        id_autor = issue.user.id\n",
    "        data_inicial = issue.created_at.strftime(\"%d/%m/%Y\")\n",
    "\n",
    "        if issue.closed_at != None:\n",
    "            data_final = issue.closed_at.strftime(\"%d/%m/%Y\")\n",
    "        else:\n",
    "            data_final = \"Não finalizada\"\n",
    "\n",
    "        lista_issue.append({\n",
    "            'ID_ISSUE': id_issue,\n",
    "            'TITULO ISSUE': titulo_issue,\n",
    "            'DATA_CRIAÇÃO': data_inicial,\n",
    "            'DATA_FINALIZAÇÃO': data_final,\n",
    "            'ID_AUTOR': id_autor,\n",
    "            'PULL_REQUEST': is_pull\n",
    "        })"
   ]
  },
  {
   "cell_type": "code",
   "execution_count": 10,
   "metadata": {},
   "outputs": [],
   "source": [
    "import pandas as pd\n",
    "import xlsxwriter\n",
    "\n",
    "dataframe = pd.DataFrame(lista_issue)\n",
    "dataframe.to_excel(\n",
    "    'Moment-Issues {}-{}.xlsx'.format(limite_inferior, limite_superior),\n",
    "    engine = 'xlsxwriter'\n",
    "    )"
   ]
  },
  {
   "cell_type": "code",
   "execution_count": 11,
   "metadata": {},
   "outputs": [],
   "source": [
    "from Funcoes.arquivo import unir_arquivo\n",
    "\n",
    "lista_arquivos = [\n",
    "    'Dados Particionados/Moment-Issues 0-2000.xlsx',\n",
    "    'Dados Particionados/Moment-Issues 2000-4000.xlsx',\n",
    "    'Dados Particionados/Moment-Issues 4000-6000.xlsx'\n",
    "]\n",
    "\n",
    "dataframe_issues = unir_arquivo(lista_arquivos)\n",
    "dataframe_issues.to_excel('Moment-ISSUES.xlsx')"
   ]
  }
 ],
 "metadata": {
  "kernelspec": {
   "display_name": "Python 3.10.5 64-bit",
   "language": "python",
   "name": "python3"
  },
  "language_info": {
   "codemirror_mode": {
    "name": "ipython",
    "version": 3
   },
   "file_extension": ".py",
   "mimetype": "text/x-python",
   "name": "python",
   "nbconvert_exporter": "python",
   "pygments_lexer": "ipython3",
   "version": "3.10.5"
  },
  "orig_nbformat": 4,
  "vscode": {
   "interpreter": {
    "hash": "3763ad9f89648d847e6f5401e1219410b4a0054c5a073f5da0c68452446768ec"
   }
  }
 },
 "nbformat": 4,
 "nbformat_minor": 2
}
