{
 "cells": [
  {
   "cell_type": "code",
   "execution_count": 1,
   "metadata": {},
   "outputs": [],
   "source": [
    "from github import Github\n",
    "chave = \"\"\n",
    "login = Github(chave)"
   ]
  },
  {
   "cell_type": "code",
   "execution_count": 2,
   "metadata": {},
   "outputs": [
    {
     "data": {
      "text/plain": [
       "RateLimit(core=Rate(reset=2022-07-14 17:45:26, remaining=4998, limit=5000))"
      ]
     },
     "execution_count": 2,
     "metadata": {},
     "output_type": "execute_result"
    }
   ],
   "source": [
    "login.get_rate_limit()"
   ]
  },
  {
   "cell_type": "code",
   "execution_count": 3,
   "metadata": {},
   "outputs": [
    {
     "name": "stdout",
     "output_type": "stream",
     "text": [
      "17039\n"
     ]
    }
   ],
   "source": [
    "repositorio = login.get_repo(\"angular/angular.js\")\n",
    "print(repositorio.get_issues(state = 'all').totalCount)"
   ]
  },
  {
   "cell_type": "code",
   "execution_count": 47,
   "metadata": {},
   "outputs": [
    {
     "name": "stdout",
     "output_type": "stream",
     "text": [
      "17039\n"
     ]
    }
   ],
   "source": [
    "repositorio = login.get_repo(\"angular/angular.js\")\n",
    "print(repositorio.get_issues(state = 'all').totalCount)\n",
    "\n",
    "import time\n",
    "lista_issue = []\n",
    "limite_inferior = 10000\n",
    "limite_superior = 12000\n",
    "\n",
    "for contagem, issue in enumerate(repositorio.get_issues(state = 'all')):\n",
    "    if contagem < limite_inferior:\n",
    "        pass\n",
    "    elif contagem >= limite_superior:\n",
    "        break\n",
    "    else:\n",
    "\n",
    "        if issue.pull_request:\n",
    "            is_pull = \"Verdadeiro\"\n",
    "        else:\n",
    "            is_pull = \"Falso\"\n",
    "\n",
    "        id_issue = issue.id\n",
    "        titulo_issue = issue.title\n",
    "        id_autor = issue.user.id\n",
    "        data_inicial = issue.created_at.strftime(\"%d/%m/%Y\")\n",
    "        numero_issue = issue.number\n",
    "\n",
    "        if issue.closed_at != None:\n",
    "            data_final = issue.closed_at.strftime(\"%d/%m/%Y\")\n",
    "        else:\n",
    "            data_final = \"Não finalizada\"\n",
    "\n",
    "        lista_issue.append({\n",
    "            'ID_ISSUE': id_issue,\n",
    "            'TITULO ISSUE': titulo_issue,\n",
    "            'DATA_CRIAÇÃO': data_inicial,\n",
    "            'DATA_FINALIZAÇÃO': data_final,\n",
    "            'ID_AUTOR': id_autor,\n",
    "            'PULL_REQUEST': is_pull,\n",
    "            'NUMBER_ISSUE': numero_issue\n",
    "        })\n",
    "\n",
    "import pandas as pd\n",
    "import xlsxwriter\n",
    "\n",
    "dataframe = pd.DataFrame(lista_issue)\n",
    "dataframe.to_excel(\n",
    "    'AngularJS-Issues {}-{}.xlsx'.format(limite_inferior, limite_superior),\n",
    "    engine = 'xlsxwriter'\n",
    "    )"
   ]
  },
  {
   "cell_type": "code",
   "execution_count": 25,
   "metadata": {},
   "outputs": [],
   "source": [
    "from Funcoes.arquivo import unir_arquivo_excel\n",
    "\n",
    "lista_arquivos = [\n",
    "    'Dados Particionados/PhantomJS-Issues 0-2000.xlsx',\n",
    "    'Dados Particionados/PhantomJS-Issues 2000-4000.xlsx',\n",
    "    'Dados Particionados/PhantomJS-Issues 4000-6000.xlsx',\n",
    "]\n",
    "\n",
    "dataframe_issues = unir_arquivo_excel(lista_arquivos)\n",
    "dataframe_issues.to_excel('PhantomJS-ISSUES.xlsx', index = 0)"
   ]
  },
  {
   "cell_type": "code",
   "execution_count": 18,
   "metadata": {},
   "outputs": [],
   "source": [
    "import pandas as pd\n",
    "limite_inferior = 0\n",
    "limite_superior = 10\n",
    "\n",
    "repositorio = login.get_repo(\"angular/angular.js\")\n",
    "dataframe = pd.read_excel('Dados Finais/AngularJS-ISSUES.xlsx', index_col = 0)\n",
    "\n",
    "comentarios = list()\n",
    "\n",
    "for contagem, linha in enumerate(dataframe.values):\n",
    "    if contagem < limite_inferior:\n",
    "        pass\n",
    "    \n",
    "    elif contagem >= limite_superior:\n",
    "        break\n",
    "    \n",
    "    else:\n",
    "        issue = repositorio.get_issue(linha[6])\n",
    "        linha\n",
    "        \n",
    "        for comentario in issue.get_comments():\n",
    "            dado = {\n",
    "                'ID_ISSUE': issue.id,\n",
    "                'ID_USUARIO_COMENTARIO': comentario.user.id,\n",
    "                'DATA_REGISTRO': comentario.created_at.strftime('%d/%m/%Y'),\n",
    "            }\n",
    "\n",
    "            comentarios.append(dado)\n",
    "\n",
    "dataframe = pd.DataFrame(comentarios)\n",
    "dataframe.to_csv(\n",
    "    'AngularJS-COMENTARIOS {}-{}'.format(limite_inferior, limite_superior), \n",
    "    sep = \";\"\n",
    "    )"
   ]
  },
  {
   "cell_type": "code",
   "execution_count": 28,
   "metadata": {},
   "outputs": [],
   "source": [
    "from Funcoes.arquivo import unir_arquivo_csv\n",
    "\n",
    "lista_arquivos = [\n",
    "    'Dados Particionados/AngularJS-COMENTARIOS 0-500.csv',\n",
    "    'Dados Particionados/AngularJS-COMENTARIOS 500-1000.csv',\n",
    "    'Dados Particionados/AngularJS-COMENTARIOS 1000-1500.csv',\n",
    "    'Dados Particionados/AngularJS-COMENTARIOS 1500-2000.csv',\n",
    "    'Dados Particionados/AngularJS-COMENTARIOS 2000-2500.csv',\n",
    "    'Dados Particionados/AngularJS-COMENTARIOS 2500-3000.csv',\n",
    "    'Dados Particionados/AngularJS-COMENTARIOS 3000-3500.csv',\n",
    "    'Dados Particionados/AngularJS-COMENTARIOS 3500-4000.csv',\n",
    "    'Dados Particionados/AngularJS-COMENTARIOS 4000-4500.csv',\n",
    "    'Dados Particionados/AngularJS-COMENTARIOS 4500-5000.csv',\n",
    "    'Dados Particionados/AngularJS-COMENTARIOS 5000-5500.csv',\n",
    "    'Dados Particionados/AngularJS-COMENTARIOS 5500-6000.csv',\n",
    "    'Dados Particionados/AngularJS-COMENTARIOS 6000-6500.csv',\n",
    "    'Dados Particionados/AngularJS-COMENTARIOS 6500-7000.csv',\n",
    "    'Dados Particionados/AngularJS-COMENTARIOS 7000-7500.csv',\n",
    "    'Dados Particionados/AngularJS-COMENTARIOS 7500-8000.csv',\n",
    "    'Dados Particionados/AngularJS-COMENTARIOS 8000-8500.csv',\n",
    "    'Dados Particionados/AngularJS-COMENTARIOS 8500-9000.csv',\n",
    "    'Dados Particionados/AngularJS-COMENTARIOS 9000-9500.csv',\n",
    "    'Dados Particionados/AngularJS-COMENTARIOS 9500-10000.csv',\n",
    "    'Dados Particionados/AngularJS-COMENTARIOS 10000-10500.csv',\n",
    "    'Dados Particionados/AngularJS-COMENTARIOS 10500-11000.csv',\n",
    "    'Dados Particionados/AngularJS-COMENTARIOS 11000-11500.csv',\n",
    "    'Dados Particionados/AngularJS-COMENTARIOS 11500-12000.csv',\n",
    "    'Dados Particionados/AngularJS-COMENTARIOS 12000-12500.csv',\n",
    "    'Dados Particionados/AngularJS-COMENTARIOS 12500-13000.csv',\n",
    "    'Dados Particionados/AngularJS-COMENTARIOS 13000-13500.csv',\n",
    "    'Dados Particionados/AngularJS-COMENTARIOS 13500-14000.csv',\n",
    "    'Dados Particionados/AngularJS-COMENTARIOS 14000-14500.csv',\n",
    "    'Dados Particionados/AngularJS-COMENTARIOS 14500-15000.csv',\n",
    "    'Dados Particionados/AngularJS-COMENTARIOS 15000-15500.csv',\n",
    "    'Dados Particionados/AngularJS-COMENTARIOS 15500-16000.csv',\n",
    "    'Dados Particionados/AngularJS-COMENTARIOS 16000-16500.csv',\n",
    "    'Dados Particionados/AngularJS-COMENTARIOS 16500-17000.csv',\n",
    "    'Dados Particionados/AngularJS-COMENTARIOS 17000-17500.csv'\n",
    "]\n",
    "\n",
    "dataframe_issues = unir_arquivo_csv(lista_arquivos)\n",
    "dataframe_issues = dataframe_issues.drop('Unnamed: 0', axis = 1)\n",
    "dataframe_issues.to_csv('AngularJS-COMENTARIOS.csv', index = 0, sep = \";\")"
   ]
  },
  {
   "cell_type": "code",
   "execution_count": 25,
   "metadata": {},
   "outputs": [
    {
     "data": {
      "text/plain": [
       "RateLimit(core=Rate(reset=2022-07-14 17:45:26, remaining=4544, limit=5000))"
      ]
     },
     "execution_count": 25,
     "metadata": {},
     "output_type": "execute_result"
    }
   ],
   "source": [
    "login.get_rate_limit()"
   ]
  },
  {
   "cell_type": "code",
   "execution_count": 20,
   "metadata": {},
   "outputs": [
    {
     "data": {
      "text/plain": [
       "9073"
      ]
     },
     "execution_count": 20,
     "metadata": {},
     "output_type": "execute_result"
    }
   ],
   "source": [
    "repositorio = login.get_repo(\"angular/angular.js\")\n",
    "repositorio.get_commits().totalCount"
   ]
  },
  {
   "cell_type": "code",
   "execution_count": 27,
   "metadata": {},
   "outputs": [],
   "source": [
    "repositorio = login.get_repo(\"angular/angular.js\")\n",
    "\n",
    "import time\n",
    "lista_commits = []\n",
    "limite_inferior = 8000\n",
    "limite_superior = 10000\n",
    "\n",
    "for contagem, commit in enumerate(repositorio.get_commits()):\n",
    "    if contagem < limite_inferior:\n",
    "        pass\n",
    "    elif contagem >= limite_superior:\n",
    "        break\n",
    "    else:\n",
    "        id_commit = commit.sha\n",
    "        id_autor = commit.author\n",
    "        data_commit = commit.commit.author.date.strftime('%d/%m/%Y')\n",
    "        \n",
    "        if id_autor is None:\n",
    "            pass\n",
    "        else:\n",
    "            id_autor = id_autor.id\n",
    "\n",
    "            lista_commits.append({\n",
    "                'ID_COMMIT': id_commit,\n",
    "                'ID_AUTOR': id_autor,\n",
    "                'DATA_COMMIT': data_commit\n",
    "            })\n",
    "\n",
    "import pandas as pd\n",
    "import xlsxwriter\n",
    "\n",
    "dataframe = pd.DataFrame(lista_commits)\n",
    "dataframe.to_excel(\n",
    "    'AngularJS-Commits {}-{}.xlsx'.format(limite_inferior, limite_superior),\n",
    "    engine = 'xlsxwriter'\n",
    "    )\n",
    "        "
   ]
  },
  {
   "cell_type": "code",
   "execution_count": 32,
   "metadata": {},
   "outputs": [],
   "source": [
    "from Funcoes.arquivo import unir_arquivo_excel\n",
    "\n",
    "lista_arquivos = [\n",
    "    'Dados Particionados/AngularJS-Commits 0-2000.xlsx',\n",
    "    'Dados Particionados/AngularJS-Commits 2000-4000.xlsx',\n",
    "    'Dados Particionados/AngularJS-Commits 4000-6000.xlsx',\n",
    "    'Dados Particionados/AngularJS-Commits 6000-8000.xlsx',\n",
    "    'Dados Particionados/AngularJS-Commits 8000-10000.xlsx',\n",
    "]\n",
    "\n",
    "dataframe_commits = unir_arquivo_excel(lista_arquivos)\n",
    "dataframe_commits.to_csv('AngularJS - Commits.csv', index = 0, sep = \";\")"
   ]
  }
 ],
 "metadata": {
  "kernelspec": {
   "display_name": "Python 3.10.5 64-bit",
   "language": "python",
   "name": "python3"
  },
  "language_info": {
   "codemirror_mode": {
    "name": "ipython",
    "version": 3
   },
   "file_extension": ".py",
   "mimetype": "text/x-python",
   "name": "python",
   "nbconvert_exporter": "python",
   "pygments_lexer": "ipython3",
   "version": "3.10.5"
  },
  "orig_nbformat": 4,
  "vscode": {
   "interpreter": {
    "hash": "3763ad9f89648d847e6f5401e1219410b4a0054c5a073f5da0c68452446768ec"
   }
  }
 },
 "nbformat": 4,
 "nbformat_minor": 2
}
